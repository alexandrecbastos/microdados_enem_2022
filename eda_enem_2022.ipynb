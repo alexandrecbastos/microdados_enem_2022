{
 "cells": [
  {
   "cell_type": "markdown",
   "id": "5fba1d61",
   "metadata": {},
   "source": [
    "# Análise: Microdados ENEM 2022 - Introdução"
   ]
  },
  {
   "cell_type": "markdown",
   "id": "d4b30793",
   "metadata": {},
   "source": [
    "O presente projeto tem como objetivo realizar uma análise detalhada dos microdados do Exame Nacional do Ensino Médio (ENEM) referentes ao ano de 2022. A análise abordará não apenas os resultados obtidos pelos participantes, mas também explorará as relações existentes entre esses resultados e os dados de inscrição, como sexo declarado, idade, cor/raça, estado, região, tipo de escola, localização do município, entre outros. Além disso, serão consideradas as respostas obtidas no questionário socioeconômico, permitindo uma análise abrangente dos fatores socioeconômicos relacionados ao desempenho dos participantes no exame.\n",
    "\n",
    "O projeto será dividido em quatro etapas principais:\n",
    "\n",
    "1.) Importação dos dados: Nesta etapa, os microdados do ENEM 2022 serão importados e organizados para análise. Será utilizada uma abordagem adequada para a extração dos dados necessários, garantindo a integridade e qualidade dos mesmos (https://download.inep.gov.br/microdados/microdados_enem_2022.zip);\n",
    "\n",
    "2.) Tratamento dos dados: Uma vez que os dados forem importados, será realizada uma minuciosa etapa de tratamento, onde serão tratadas questões como valores ausentes, inconsistências e erros de formatação. Essa etapa é essencial para assegurar a confiabilidade e a consistência dos dados a serem analisados posteriormente;\n",
    "\n",
    "3.) Análise exploratória dos dados: Nesta etapa, será realizada uma análise abrangente e exploratória dos dados, visando identificar padrões, tendências e insights relevantes. Serão utilizadas técnicas estatísticas e ferramentas de visualização de dados para auxiliar na compreensão e interpretação dos resultados; e\n",
    "\n",
    "4.) Criação de dashboard interativo: Por fim, os resultados obtidos serão apresentados de forma clara e acessível através da criação de um dashboard interativo. Essa ferramenta permitirá uma visualização dinâmica e personalizada dos dados, facilitando a exploração dos resultados e possibilitando uma melhor compreensão das relações entre as variáveis analisadas."
   ]
  },
  {
   "cell_type": "markdown",
   "id": "a345199a",
   "metadata": {},
   "source": [
    "# Importação de bibliotecas e dados"
   ]
  },
  {
   "cell_type": "code",
   "execution_count": null,
   "id": "0afe4cf0",
   "metadata": {},
   "outputs": [],
   "source": [
    "import pandas as pd\n",
    "import numpy as np\n",
    "import seaborn as sns\n",
    "import matplotlib as plt\n",
    "import plotly.express as px\n",
    "\n",
    "pd.set_option('display.max_columns', None)"
   ]
  },
  {
   "cell_type": "code",
   "execution_count": null,
   "id": "77adae01",
   "metadata": {},
   "outputs": [],
   "source": [
    "dados = pd.read_csv('MICRODADOS_ENEM_2022.csv', sep=';', encoding='latin-1')"
   ]
  },
  {
   "cell_type": "code",
   "execution_count": null,
   "id": "8e218c01",
   "metadata": {},
   "outputs": [],
   "source": [
    "dados.info()"
   ]
  },
  {
   "cell_type": "markdown",
   "id": "6184778a",
   "metadata": {},
   "source": [
    "O Enem aceita inscrições de alunos que ainda não concluíram o ensino médio no ano de realização do certame. Para estes alunos é atribuída a condição de 'Treineiro'. A coluna \"IN_TREINEIRO\" mostra valor 1 para os cadidatos que satisfazem essa condição e 0 para os demais.\n",
    "\n",
    "Como o conjunto de dados é grande e usa muita memória (memory usage: 2.0+ GB), optei por selecionar apenas os candidatos não treineiros, o que não será capaz de prejudicar a análise."
   ]
  },
  {
   "cell_type": "code",
   "execution_count": null,
   "id": "5771a240",
   "metadata": {},
   "outputs": [],
   "source": [
    "df_1 = dados.loc[dados['IN_TREINEIRO'] == 0]"
   ]
  },
  {
   "cell_type": "markdown",
   "id": "9f1154db",
   "metadata": {},
   "source": [
    "Após abrir o arquivo \"Dicionário_Microdados_Enem_2022.xlsx\" (disponível com o arquivo .zip baixado) e todo o conteúdo dos campos da tabela completa, optei por descartar as informações abaixo. Serão descartadas também as linhas que contém valores NaN, uma vez que isso ocorre nos casos em que o candidato faltou pelo menos uma prova, não interessando para esta análise. "
   ]
  },
  {
   "cell_type": "code",
   "execution_count": null,
   "id": "eff48acf",
   "metadata": {},
   "outputs": [],
   "source": [
    "df_1 = df_1.drop(columns = ['TP_NACIONALIDADE', 'TP_ST_CONCLUSAO','TP_ANO_CONCLUIU',\n",
    "                            'TP_ENSINO', 'IN_TREINEIRO', 'CO_MUNICIPIO_ESC',\n",
    "                            'NO_MUNICIPIO_ESC', 'CO_UF_ESC', 'TP_SIT_FUNC_ESC',\n",
    "                            'CO_MUNICIPIO_PROVA', 'NO_MUNICIPIO_PROVA', 'CO_UF_PROVA',\n",
    "                            'SG_UF_PROVA', 'TP_PRESENCA_CN', 'TP_PRESENCA_CH',\n",
    "                            'TP_PRESENCA_LC', 'TP_PRESENCA_MT', 'CO_PROVA_CN',\n",
    "                            'CO_PROVA_CH', 'CO_PROVA_LC', 'CO_PROVA_MT',\n",
    "                            'TX_RESPOSTAS_CN', 'TX_RESPOSTAS_CH', 'TX_RESPOSTAS_LC',\n",
    "                            'TX_RESPOSTAS_MT', 'TP_LINGUA', 'TX_GABARITO_CN',\n",
    "                            'TX_GABARITO_CH', 'TX_GABARITO_LC', 'TX_GABARITO_MT',\n",
    "                            'TP_STATUS_REDACAO', 'NU_NOTA_COMP1', 'NU_NOTA_COMP2',\n",
    "                            'NU_NOTA_COMP3', 'NU_NOTA_COMP4', 'NU_NOTA_COMP5',\n",
    "                            'Q003', 'Q004', 'Q005', 'Q006', 'Q007', 'Q008', 'Q009',\n",
    "                            'Q010', 'Q011', 'Q012', 'Q013', 'Q014', 'Q015', 'Q016',\n",
    "                            'Q017', 'Q018', 'Q019', 'Q020', 'Q021', 'Q022', 'Q023',\n",
    "                            'Q024', 'Q025']).dropna()\n",
    "\n"
   ]
  },
  {
   "cell_type": "code",
   "execution_count": null,
   "id": "f7b8fbae",
   "metadata": {},
   "outputs": [],
   "source": [
    "df_1.info()"
   ]
  },
  {
   "cell_type": "markdown",
   "id": "c264f2b6",
   "metadata": {},
   "source": [
    "Neste passo, substituiremos os dados categorizados por strings. A informação foi obtida no arquivo xlsx citado anteriormente."
   ]
  },
  {
   "cell_type": "code",
   "execution_count": null,
   "id": "496bde2c",
   "metadata": {},
   "outputs": [],
   "source": [
    "df_1['TP_DEPENDENCIA_ADM_ESC'] = df_1['TP_DEPENDENCIA_ADM_ESC'].replace({1:'Federal',\n",
    "                                                                         2:'Estadual',\n",
    "                                                                         3: 'Municipal',\n",
    "                                                                         4: 'Privada'})\n",
    "\n",
    "df_1['TP_ESCOLA'] = df_1['TP_ESCOLA'].replace({1:'Não Respondeu',\n",
    "                                               2: 'Pública',\n",
    "                                               3: 'Privada'})\n",
    "\n",
    "df_1['TP_LOCALIZACAO_ESC'] = df_1['TP_LOCALIZACAO_ESC'].replace({1:'Urbana',\n",
    "                                                                 2:'Rural'})\n",
    "\n",
    "df_1['TP_ESTADO_CIVIL'] = df_1['TP_ESTADO_CIVIL'].replace({0: 'Não Informado',\n",
    "                                                           1:'Solteiro',\n",
    "                                                           2:'Casado',\n",
    "                                                           3: 'Divorciado',\n",
    "                                                           4: 'Viúvo'})\n",
    "\n",
    "df_1['TP_COR_RACA'] = df_1['TP_COR_RACA'].replace({0: 'Não Declarado',\n",
    "                                                   1:'Branca',\n",
    "                                                   2:'Preta',\n",
    "                                                   3: 'Parda',\n",
    "                                                   4: 'amarela',\n",
    "                                                   5: 'indígena',\n",
    "                                                   6: 'Não dispõe da informação'})\n",
    "\n",
    "df_1['TP_FAIXA_ETARIA'] = df_1['TP_FAIXA_ETARIA'].replace({1:'menos de 17 anos',\n",
    "                                                           2:'17 anos',\n",
    "                                                           3: '18 anos',\n",
    "                                                           4: '19 anos',\n",
    "                                                           5: '20 anos',\n",
    "                                                           6: '21 anos',\n",
    "                                                           7: '22 anos',\n",
    "                                                           8: '23 anos',\n",
    "                                                           9: '24 anos',\n",
    "                                                          10: '25 anos',\n",
    "                                                          11: 'entre 26 e 30 anos',\n",
    "                                                          12: 'entre 31 e 35 anos',\n",
    "                                                          13: 'entre 36 e 40 anos',\n",
    "                                                          14: 'entre 41 e 45 anos',\n",
    "                                                          15: 'entre 46 e 50 anos',\n",
    "                                                          16: 'entre 51 e 55 anos',\n",
    "                                                          17: 'entre 56 e 60 anos',\n",
    "                                                          18: 'entre 61 e 65 anos',\n",
    "                                                          19: 'entre 66 e 70 anos',\n",
    "                                                          20: 'mais de 70 anos anos'})"
   ]
  },
  {
   "cell_type": "code",
   "execution_count": null,
   "id": "ae5fd0df",
   "metadata": {},
   "outputs": [],
   "source": [
    "df_1.head(100)"
   ]
  },
  {
   "cell_type": "code",
   "execution_count": null,
   "id": "5ed9ab19",
   "metadata": {},
   "outputs": [],
   "source": [
    "df_1.groupby('TP_SEXO').agg({'NU_NOTA_CN':'mean', 'NU_NOTA_CH':'mean', 'NU_NOTA_LC':'mean',\n",
    "                                        'NU_NOTA_MT':'mean', 'NU_NOTA_REDACAO':'mean'})"
   ]
  },
  {
   "cell_type": "code",
   "execution_count": null,
   "id": "74c96db1",
   "metadata": {},
   "outputs": [],
   "source": [
    "df_1.groupby('TP_SEXO').agg({'NU_NOTA_CN':'mean', 'NU_NOTA_CH':'mean', 'NU_NOTA_LC':'mean',\n",
    "                                        'NU_NOTA_MT':'mean', 'NU_NOTA_REDACAO':'mean'}).describe()"
   ]
  },
  {
   "cell_type": "code",
   "execution_count": null,
   "id": "fe3e9804",
   "metadata": {},
   "outputs": [],
   "source": [
    "df_1.groupby('SG_UF_ESC').agg({'NU_NOTA_CN':'mean', 'NU_NOTA_CH':'mean', 'NU_NOTA_LC':'mean',\n",
    "                                        'NU_NOTA_MT':'mean', 'NU_NOTA_REDACAO':'mean'})"
   ]
  },
  {
   "cell_type": "code",
   "execution_count": null,
   "id": "034f77d2",
   "metadata": {},
   "outputs": [],
   "source": [
    "df_1.groupby('SG_UF_ESC').agg({'NU_NOTA_CN':'max', 'NU_NOTA_CH':'max', 'NU_NOTA_LC':'max',\n",
    "                                        'NU_NOTA_MT':'max', 'NU_NOTA_REDACAO':'max'}).describe()"
   ]
  },
  {
   "cell_type": "code",
   "execution_count": null,
   "id": "6e1cbddb",
   "metadata": {},
   "outputs": [],
   "source": [
    "df_1.groupby(['TP_COR_RACA']).agg({'NU_NOTA_CN':'max', 'NU_NOTA_CH':'max', 'NU_NOTA_LC':'max',\n",
    "                                        'NU_NOTA_MT':'max', 'NU_NOTA_REDACAO':'max'})"
   ]
  },
  {
   "cell_type": "code",
   "execution_count": null,
   "id": "f2f45200",
   "metadata": {},
   "outputs": [],
   "source": [
    "df_1.groupby(['TP_COR_RACA']).agg({'NU_NOTA_CN':'mean', 'NU_NOTA_CH':'mean', 'NU_NOTA_LC':'mean',\n",
    "                                        'NU_NOTA_MT':'mean', 'NU_NOTA_REDACAO':'mean'}).describe()"
   ]
  },
  {
   "cell_type": "code",
   "execution_count": null,
   "id": "7305e770",
   "metadata": {},
   "outputs": [],
   "source": [
    "df_1.groupby(['TP_DEPENDENCIA_ADM_ESC']).agg({'NU_NOTA_CN':'mean', 'NU_NOTA_CH':'mean', 'NU_NOTA_LC':'mean',\n",
    "                                        'NU_NOTA_MT':'mean', 'NU_NOTA_REDACAO':'mean'})"
   ]
  },
  {
   "cell_type": "code",
   "execution_count": null,
   "id": "5f9e38bd",
   "metadata": {},
   "outputs": [],
   "source": [
    "df_1.groupby(['TP_DEPENDENCIA_ADM_ESC']).agg({'NU_NOTA_CN':'mean', 'NU_NOTA_CH':'mean', 'NU_NOTA_LC':'mean',\n",
    "                                        'NU_NOTA_MT':'mean', 'NU_NOTA_REDACAO':'mean'}).describe()"
   ]
  },
  {
   "cell_type": "code",
   "execution_count": null,
   "id": "fc63d2e5",
   "metadata": {},
   "outputs": [],
   "source": []
  }
 ],
 "metadata": {
  "kernelspec": {
   "display_name": "Python 3 (ipykernel)",
   "language": "python",
   "name": "python3"
  },
  "language_info": {
   "codemirror_mode": {
    "name": "ipython",
    "version": 3
   },
   "file_extension": ".py",
   "mimetype": "text/x-python",
   "name": "python",
   "nbconvert_exporter": "python",
   "pygments_lexer": "ipython3",
   "version": "3.10.7"
  },
  "toc": {
   "base_numbering": 1,
   "nav_menu": {},
   "number_sections": true,
   "sideBar": true,
   "skip_h1_title": false,
   "title_cell": "Table of Contents",
   "title_sidebar": "Contents",
   "toc_cell": false,
   "toc_position": {},
   "toc_section_display": true,
   "toc_window_display": false
  }
 },
 "nbformat": 4,
 "nbformat_minor": 5
}
